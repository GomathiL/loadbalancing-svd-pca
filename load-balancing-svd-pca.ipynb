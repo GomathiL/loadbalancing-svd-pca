{
 "cells": [
  {
   "cell_type": "code",
   "execution_count": 1,
   "id": "567f585c",
   "metadata": {},
   "outputs": [],
   "source": [
    "# Import Required Libraries\n",
    "\n",
    "from sklearn.preprocessing import StandardScaler\n",
    "from sklearn.decomposition import TruncatedSVD\n",
    "from scipy.sparse import csr_matrix\n",
    "from sklearn import datasets\n",
    "import numpy as np"
   ]
  },
  {
   "cell_type": "code",
   "execution_count": 2,
   "id": "1f8567e0",
   "metadata": {},
   "outputs": [
    {
     "name": "stdout",
     "output_type": "stream",
     "text": [
      "C:\\Users\\Gomu\\Downloads\n"
     ]
    }
   ],
   "source": [
    "cd \\Users\\Gomu\\Downloads"
   ]
  },
  {
   "cell_type": "code",
   "execution_count": 3,
   "id": "469cc222",
   "metadata": {},
   "outputs": [
    {
     "data": {
      "text/plain": [
       "'C:\\\\Users\\\\Gomu\\\\Downloads'"
      ]
     },
     "execution_count": 3,
     "metadata": {},
     "output_type": "execute_result"
    }
   ],
   "source": [
    "pwd"
   ]
  },
  {
   "cell_type": "code",
   "execution_count": 4,
   "id": "d0e9b477",
   "metadata": {},
   "outputs": [
    {
     "data": {
      "text/html": [
       "<div>\n",
       "<style scoped>\n",
       "    .dataframe tbody tr th:only-of-type {\n",
       "        vertical-align: middle;\n",
       "    }\n",
       "\n",
       "    .dataframe tbody tr th {\n",
       "        vertical-align: top;\n",
       "    }\n",
       "\n",
       "    .dataframe thead th {\n",
       "        text-align: right;\n",
       "    }\n",
       "</style>\n",
       "<table border=\"1\" class=\"dataframe\">\n",
       "  <thead>\n",
       "    <tr style=\"text-align: right;\">\n",
       "      <th></th>\n",
       "      <th>Host ID</th>\n",
       "      <th>J(1): MIPS</th>\n",
       "      <th>J(1): RAM (MB)</th>\n",
       "      <th>J(1): Bandwith (MB)</th>\n",
       "      <th>J(1): Storage (Mbps)</th>\n",
       "    </tr>\n",
       "  </thead>\n",
       "  <tbody>\n",
       "    <tr>\n",
       "      <th>0</th>\n",
       "      <td>0</td>\n",
       "      <td>1023</td>\n",
       "      <td>512</td>\n",
       "      <td>5000</td>\n",
       "      <td>5000</td>\n",
       "    </tr>\n",
       "    <tr>\n",
       "      <th>1</th>\n",
       "      <td>1</td>\n",
       "      <td>2048</td>\n",
       "      <td>1800</td>\n",
       "      <td>8000</td>\n",
       "      <td>8000</td>\n",
       "    </tr>\n",
       "    <tr>\n",
       "      <th>2</th>\n",
       "      <td>2</td>\n",
       "      <td>250</td>\n",
       "      <td>124</td>\n",
       "      <td>1000</td>\n",
       "      <td>1000</td>\n",
       "    </tr>\n",
       "    <tr>\n",
       "      <th>3</th>\n",
       "      <td>3</td>\n",
       "      <td>2048</td>\n",
       "      <td>1600</td>\n",
       "      <td>7000</td>\n",
       "      <td>7000</td>\n",
       "    </tr>\n",
       "    <tr>\n",
       "      <th>4</th>\n",
       "      <td>4</td>\n",
       "      <td>2600</td>\n",
       "      <td>1240</td>\n",
       "      <td>6000</td>\n",
       "      <td>6000</td>\n",
       "    </tr>\n",
       "  </tbody>\n",
       "</table>\n",
       "</div>"
      ],
      "text/plain": [
       "   Host ID  J(1): MIPS  J(1): RAM (MB)  J(1): Bandwith (MB)  \\\n",
       "0        0        1023             512                 5000   \n",
       "1        1        2048            1800                 8000   \n",
       "2        2         250             124                 1000   \n",
       "3        3        2048            1600                 7000   \n",
       "4        4        2600            1240                 6000   \n",
       "\n",
       "   J(1): Storage (Mbps)  \n",
       "0                  5000  \n",
       "1                  8000  \n",
       "2                  1000  \n",
       "3                  7000  \n",
       "4                  6000  "
      ]
     },
     "execution_count": 4,
     "metadata": {},
     "output_type": "execute_result"
    }
   ],
   "source": [
    "import pandas as pd\n",
    "\n",
    "df = pd.read_csv(\"os-data.csv\")\n",
    "df.head()"
   ]
  },
  {
   "cell_type": "code",
   "execution_count": 5,
   "id": "48fb5195",
   "metadata": {},
   "outputs": [],
   "source": [
    "df1 = df.drop('Host ID', axis=1)"
   ]
  },
  {
   "cell_type": "code",
   "execution_count": 6,
   "id": "ddedf32a",
   "metadata": {},
   "outputs": [],
   "source": [
    "#Perform Scaling\n",
    "\n",
    "X = StandardScaler().fit_transform(df1)"
   ]
  },
  {
   "cell_type": "code",
   "execution_count": 7,
   "id": "f790c089",
   "metadata": {},
   "outputs": [
    {
     "name": "stdout",
     "output_type": "stream",
     "text": [
      "[[-0.89959223 -1.56853493 -0.14558249 -0.26015137]\n",
      " [ 0.27510939  0.70245539  1.13520184  0.94509009]\n",
      " [-1.78548916 -2.25265313 -1.85329492 -1.86713998]\n",
      " [ 0.27510939  0.34981714  0.70827373  0.54334294]\n",
      " [ 0.90772919 -0.2849317   0.28134562  0.14159578]\n",
      " [ 0.79312415  0.22639375  0.06788157  0.06124635]\n",
      " [ 1.70996445  1.93668926  0.28134562  0.14159578]\n",
      " [-0.69674132 -0.74336143  0.28134562  0.14159578]\n",
      " [ 0.53182467  0.68834986  1.34098119  0.70082782]\n",
      " [ 1.69621184  1.13972682  1.77559401  1.43321288]\n",
      " [-1.17808247 -0.97257629 -1.72521649 -1.78679055]\n",
      " [ 0.22009897 -0.17914023  0.28134562  0.74421651]\n",
      " [ 1.2515443   0.79061495 -0.78597465  0.94509009]\n",
      " [-0.08016622  0.21581461  0.18784837  1.42718667]\n",
      " [ 0.10549394 -0.07687514  0.79365936 -0.50039617]\n",
      " [-1.38437154  1.05509364 -1.25559557 -1.06364567]\n",
      " [ 0.79312415 -0.7080976  -1.13648263 -1.1379689 ]\n",
      " [-0.56838368 -0.66578101  1.13520184 -1.36495604]\n",
      " [-1.04055643 -0.79273078 -0.93881491  1.13511649]\n",
      " [-0.92595139  1.13972682 -0.42906275 -0.37906853]]\n"
     ]
    }
   ],
   "source": [
    "print(X)"
   ]
  },
  {
   "cell_type": "code",
   "execution_count": 8,
   "id": "5c7eac54",
   "metadata": {},
   "outputs": [],
   "source": [
    "#Make Sparse Matrix\n",
    "\n",
    "X_sparse = csr_matrix(X)"
   ]
  },
  {
   "cell_type": "code",
   "execution_count": 9,
   "id": "90b775f2",
   "metadata": {},
   "outputs": [],
   "source": [
    "#Run SVD Model with One Less than Number of Features\n",
    "\n",
    "tsvd = TruncatedSVD(n_components=X_sparse.shape[1]-1)\n",
    "X_tsvd = tsvd.fit(X)"
   ]
  },
  {
   "cell_type": "code",
   "execution_count": 10,
   "id": "42599fe6",
   "metadata": {},
   "outputs": [],
   "source": [
    "#Explained List of Variables\n",
    "\n",
    "tsvd_var_ratios = tsvd.explained_variance_ratio_"
   ]
  },
  {
   "cell_type": "code",
   "execution_count": 11,
   "id": "74b2a7ec",
   "metadata": {},
   "outputs": [],
   "source": [
    "#Create Function Calculating Number Of Components Required To Pass Threshold\n",
    "\n",
    "# Create a function\n",
    "def select_n_components(var_ratio, goal_var: float) -> int:\n",
    "    # Set initial variance explained so far\n",
    "    total_variance = 0.0\n",
    "    \n",
    "    # Set initial number of features\n",
    "    n_components = 0\n",
    "    \n",
    "    # For the explained variance of each feature:\n",
    "    for explained_variance in var_ratio:\n",
    "        \n",
    "        # Add the explained variance to the total\n",
    "        total_variance += explained_variance\n",
    "        \n",
    "        # Add one to the number of components\n",
    "        n_components += 1\n",
    "        \n",
    "        # If we reach our goal level of explained variance\n",
    "        if total_variance >= goal_var:\n",
    "            # End the loop\n",
    "            break\n",
    "            \n",
    "    # Return the number of components\n",
    "    return n_components"
   ]
  },
  {
   "cell_type": "code",
   "execution_count": 12,
   "id": "3dcca801",
   "metadata": {},
   "outputs": [
    {
     "data": {
      "text/plain": [
       "3"
      ]
     },
     "execution_count": 12,
     "metadata": {},
     "output_type": "execute_result"
    }
   ],
   "source": [
    "select_n_components(tsvd_var_ratios, 0.95)"
   ]
  },
  {
   "cell_type": "code",
   "execution_count": 13,
   "id": "737cdc68",
   "metadata": {},
   "outputs": [],
   "source": [
    "#Run SVD with the Selected Number of Components\n",
    "\n",
    "tsvd = TruncatedSVD(n_components=3)\n",
    "X_tsvd = tsvd.fit_transform(X)"
   ]
  },
  {
   "cell_type": "code",
   "execution_count": 14,
   "id": "0a6ddedb",
   "metadata": {},
   "outputs": [
    {
     "name": "stdout",
     "output_type": "stream",
     "text": [
      "[[ 1.43272051 -1.12734877  0.05845766]\n",
      " [-1.51344422 -0.43728223  0.09284386]\n",
      " [ 3.86945775 -0.25579227 -0.06330158]\n",
      " [-0.93255408 -0.29378248 -0.01479092]\n",
      " [-0.54702438 -0.19802565 -0.32977728]\n",
      " [-0.58961044  0.28306254 -0.21580084]\n",
      " [-2.04327158  1.53714887 -0.44940398]\n",
      " [ 0.51667804 -0.89420909  0.13088673]\n",
      " [-1.61987598 -0.42000972 -0.2879505 ]\n",
      " [-3.02870002 -0.34208427 -0.27149471]\n",
      " [ 2.82821596  0.67556366 -0.18142141]\n",
      " [-0.53903473 -0.49825294  0.35875391]\n",
      " [-1.12724552  0.96717072  0.82863675]\n",
      " [-0.86865326 -0.48025208  1.0591943 ]\n",
      " [-0.15652638 -0.31250033 -0.85424422]\n",
      " [ 1.36302641  1.51174993  0.31193571]\n",
      " [ 1.0528652   0.75306673 -0.56794579]\n",
      " [ 0.74742772 -0.77424975 -1.54579626]\n",
      " [ 0.82150846 -0.65209488  1.66638891]\n",
      " [ 0.33404057  0.95812201  0.27482966]]\n"
     ]
    }
   ],
   "source": [
    "print(X_tsvd)"
   ]
  },
  {
   "cell_type": "code",
   "execution_count": 15,
   "id": "ae60c9a0",
   "metadata": {},
   "outputs": [
    {
     "name": "stdout",
     "output_type": "stream",
     "text": [
      "[2 0 1 0 0 0 0 2 0 0 1 0 0 0 2 2 2 2 2 2]\n"
     ]
    }
   ],
   "source": [
    "#Perform K-Means Clustering\n",
    "\n",
    "from sklearn.cluster import KMeans\n",
    "kmeans = KMeans(n_clusters=3)\n",
    "kmeans.fit(X_tsvd)\n",
    "y_kmeans=kmeans.predict(X_tsvd)\n",
    "print(y_kmeans)"
   ]
  },
  {
   "cell_type": "code",
   "execution_count": 16,
   "id": "541a25cf",
   "metadata": {},
   "outputs": [
    {
     "data": {
      "image/png": "[encoded data removed]",
      "text/plain": [
       "<Figure size 432x288 with 1 Axes>"
      ]
     },
     "metadata": {
      "needs_background": "light"
     },
     "output_type": "display_data"
    }
   ],
   "source": [
    "#Run Principal Component Analysis\n",
    "\n",
    "import matplotlib.pyplot as plt\n",
    "from sklearn.decomposition import PCA\n",
    "\n",
    "pca = PCA()\n",
    "# Determine transformed features\n",
    "X_train_pca = pca.fit_transform(X_tsvd)\n",
    "\n",
    "# Determine explained variance using explained_variance_ration_ attribute\n",
    "exp_var_pca = pca.explained_variance_ratio_\n",
    "\n",
    "# Cumulative sum of eigenvalues; This will be used to create step plot\n",
    "# for visualizing the variance explained by each principal component.\n",
    "cum_sum_eigenvalues = np.cumsum(exp_var_pca)\n",
    "\n",
    "# Create the visualization plot\n",
    "plt.bar(range(0,len(exp_var_pca)), exp_var_pca, alpha=0.5, align='center', label='Individual explained variance')\n",
    "plt.step(range(0,len(cum_sum_eigenvalues)), cum_sum_eigenvalues, where='mid',label='Cumulative explained variance')\n",
    "plt.ylabel('Explained variance ratio')\n",
    "plt.xlabel('Principal component index')\n",
    "plt.legend(loc='best')\n",
    "plt.tight_layout()\n",
    "plt.show()"
   ]
  },
  {
   "cell_type": "code",
   "execution_count": 17,
   "id": "f78f838f",
   "metadata": {},
   "outputs": [
    {
     "name": "stdout",
     "output_type": "stream",
     "text": [
      "[0.71258558 0.16467406 0.12274036]\n"
     ]
    }
   ],
   "source": [
    "#Select Number of Components = 3 and Perform PCA\n",
    "\n",
    "pca = PCA(n_components=3)\n",
    "principalComponents = pca.fit_transform(X_tsvd)\n",
    "principalDf = pd.DataFrame(data = principalComponents, columns = ['principal component 1', 'principal component 2','principal component 3'])\n",
    "print(pca.explained_variance_ratio_)"
   ]
  },
  {
   "cell_type": "code",
   "execution_count": 18,
   "id": "b492b594",
   "metadata": {},
   "outputs": [
    {
     "name": "stdout",
     "output_type": "stream",
     "text": [
      "[[ 1.43272051 -1.12734877  0.05845766]\n",
      " [-1.51344422 -0.43728223  0.09284386]\n",
      " [ 3.86945775 -0.25579227 -0.06330158]\n",
      " [-0.93255408 -0.29378248 -0.01479092]\n",
      " [-0.54702438 -0.19802565 -0.32977728]\n",
      " [-0.58961044  0.28306254 -0.21580084]\n",
      " [-2.04327158  1.53714887 -0.44940398]\n",
      " [ 0.51667804 -0.89420909  0.13088673]\n",
      " [-1.61987598 -0.42000972 -0.2879505 ]\n",
      " [-3.02870002 -0.34208427 -0.27149471]\n",
      " [ 2.82821596  0.67556366 -0.18142141]\n",
      " [-0.53903473 -0.49825294  0.35875391]\n",
      " [-1.12724552  0.96717072  0.82863675]\n",
      " [-0.86865326 -0.48025208  1.0591943 ]\n",
      " [-0.15652638 -0.31250033 -0.85424422]\n",
      " [ 1.36302641  1.51174993  0.31193571]\n",
      " [ 1.0528652   0.75306673 -0.56794579]\n",
      " [ 0.74742772 -0.77424975 -1.54579626]\n",
      " [ 0.82150846 -0.65209488  1.66638891]\n",
      " [ 0.33404057  0.95812201  0.27482966]]\n"
     ]
    }
   ],
   "source": [
    "print(principalComponents)"
   ]
  },
  {
   "cell_type": "code",
   "execution_count": 19,
   "id": "f85ba1bd",
   "metadata": {},
   "outputs": [
    {
     "name": "stdout",
     "output_type": "stream",
     "text": [
      "[2 1 0 1 1 1 1 2 1 1 0 1 1 1 2 2 2 2 2 2]\n"
     ]
    }
   ],
   "source": [
    "#Perform K-Means Clustering\n",
    "\n",
    "from sklearn.cluster import KMeans\n",
    "kmeans = KMeans(n_clusters=3)\n",
    "kmeans.fit(X_tsvd)\n",
    "y_kmeans=kmeans.predict(X_tsvd)\n",
    "print(y_kmeans)"
   ]
  }
 ],
 "metadata": {
  "kernelspec": {
   "display_name": "Python 3 (ipykernel)",
   "language": "python",
   "name": "python3"
  },
  "language_info": {
   "codemirror_mode": {
    "name": "ipython",
    "version": 3
   },
   "file_extension": ".py",
   "mimetype": "text/x-python",
   "name": "python",
   "nbconvert_exporter": "python",
   "pygments_lexer": "ipython3",
   "version": "3.9.12"
  }
 },
 "nbformat": 4,
 "nbformat_minor": 5
}
